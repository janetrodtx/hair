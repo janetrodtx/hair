{
 "cells": [
  {
   "cell_type": "code",
   "execution_count": 1,
   "id": "b1e01c72-4760-4684-8861-65e144023726",
   "metadata": {},
   "outputs": [],
   "source": [
    "import pandas as pd\n",
    "from sklearn.model_selection import train_test_split\n",
    "from sklearn.linear_model import LogisticRegression\n",
    "from sklearn.preprocessing import StandardScaler\n",
    "import pickle"
   ]
  },
  {
   "cell_type": "code",
   "execution_count": 2,
   "id": "0077ebd5-02b6-4c8c-9133-d25d67f882e2",
   "metadata": {},
   "outputs": [],
   "source": [
    "df = pd.read_csv(r\"New Hair Data - Updated_Hair_Issues_Dataset.csv.csv\")"
   ]
  },
  {
   "cell_type": "code",
   "execution_count": 3,
   "id": "1818b484-dec9-43c8-a6f2-2f9755888f2e",
   "metadata": {},
   "outputs": [
    {
     "name": "stdout",
     "output_type": "stream",
     "text": [
      "💡 **Issue:** Frizz\n",
      "📖 **Definition:** Hair appears dry and puffy due to lack of moisture or humidity.\n",
      "⚠️ **Cause:** Lack of moisture, humidity, heat damage.\n",
      "🛠 **Solution:** Use sulfate-free shampoo, deep condition, apply anti-frizz serum.\n",
      "💰 **Budget:** Under $25\n",
      "🛍 **Recommended Product:** [COLOR WOW Dream Coat Supernatural Spray\n",
      "🛍 **Recommended Product:** [ONDAY HAIRCARE Smooth Shampoo + Conditioner Bathroom Set](https://amzn.to/3XKWdu5)\n"
     ]
    }
   ],
   "source": [
    "# ✅ Ensure column names are clean (removes hidden spaces)\n",
    "df.columns = df.columns.str.strip()\n",
    "\n",
    "# Sample user input\n",
    "hair_issue = \"Frizz\"  # User selects their issue\n",
    "budget = \"Under $25\"  # User selects budget\n",
    "\n",
    "# ✅ Check if all required columns exist\n",
    "required_columns = {\"Issue\", \"Budget\", \"Definition\", \"Cause\", \"Solution\", \"Recommended Product & Link\"}\n",
    "if required_columns.issubset(df.columns):\n",
    "\n",
    "    # ✅ Filter data based on user input (case insensitive, removes spaces)\n",
    "    result = df[\n",
    "        (df[\"Issue\"].str.lower().str.strip() == hair_issue.lower().strip()) &\n",
    "        (df[\"Budget\"].str.lower().str.strip() == budget.lower().strip())\n",
    "    ]\n",
    "    \n",
    "    # ✅ Display recommendation\n",
    "    if not result.empty:\n",
    "        print(f\"💡 **Issue:** {result.iloc[0]['Issue']}\")\n",
    "        print(f\"📖 **Definition:** {result.iloc[0]['Definition']}\")\n",
    "        print(f\"⚠️ **Cause:** {result.iloc[0]['Cause']}\")\n",
    "        print(f\"🛠 **Solution:** {result.iloc[0]['Solution']}\")\n",
    "        print(f\"💰 **Budget:** {result.iloc[0]['Budget']}\")\n",
    "\n",
    "        # Extract product recommendations and display each separately\n",
    "        product_list = result.iloc[0]['Recommended Product & Link'].split(\", \")\n",
    "        \n",
    "        for product in product_list:\n",
    "            if \"](\" in product:\n",
    "                product_name = product.split('](')[0][1:]  # Extract text inside [ ]\n",
    "                product_link = product.split('](')[1][:-1]  # Extract URL inside ( )\n",
    "                print(f\"🛍 **Recommended Product:** [{product_name}]({product_link})\")\n",
    "            else:\n",
    "                print(f\"🛍 **Recommended Product:** {product}\")  # If no link, display as plain text\n",
    "\n",
    "    else:\n",
    "        print(\"❌ No product found for the selected budget.\")\n",
    "else:\n",
    "    print(\"⚠️ Dataset is missing required columns. Check your CSV structure.\")"
   ]
  },
  {
   "cell_type": "code",
   "execution_count": 7,
   "id": "2f83a1e2-6120-4b5c-9002-a3c4ecd44a7d",
   "metadata": {},
   "outputs": [
    {
     "name": "stdout",
     "output_type": "stream",
     "text": [
      "✨ **Styling Goal:** Volume\n",
      "🧴 **Product Type:** Mousse, Volume Spray\n",
      "📝 **Description:** Adds volume and body to fine hair.\n",
      "💡 **How to Use:** Apply to damp hair at roots, blow dry upward.\n",
      "💰 **Budget:** Under $25\n",
      "🛍 **Recommended Product:** [ Amika Brooklyn Bombshell\n",
      "🛍 **Recommended Product:** SexyHair Root Pump\n",
      "🛍 **Recommended Product:** SexyHair Volumizing Gel\n",
      "🛍 **Recommended Product:** Sexy Hair Big Powder Play\n",
      "🛍 **Recommended Product:** PM Extra Body\n",
      "🛍 **Recommended Product:** Nexxus Root Left\n",
      "🛍 **Recommended Product:** SH Big Altitude\n",
      "🛍 **Recommended Product:** Kenra Thickening Glaze\n",
      "🛍 **Recommended Product:** Kenra Volume Mousse\n",
      "🛍 **Recommended Product:** Dove Boost Root Lift ] (https://amzn.to/3FJk7jm)\n"
     ]
    }
   ],
   "source": [
    "# ✅ Ensure column names are clean (removes hidden spaces)\n",
    "df.columns = df.columns.str.strip()\n",
    "\n",
    "# Sample user input\n",
    "styling_goal = \"Volume\"  # User selects their hair goal\n",
    "budget = \"Under $25\"  # User selects budget\n",
    "\n",
    "# ✅ Check if all required columns exist\n",
    "required_columns = {\"Styling Goal\", \"Product Type\", \"Description\", \"How to Use\", \"Budget\", \"Product & Link\"}\n",
    "if required_columns.issubset(df.columns):\n",
    "\n",
    "    # ✅ Filter data based on user input (case insensitive, removes spaces)\n",
    "    result = df[\n",
    "        (df[\"Styling Goal\"].str.lower().str.strip() == styling_goal.lower().strip()) &\n",
    "        (df[\"Budget\"].str.lower().str.strip() == budget.lower().strip())\n",
    "    ]\n",
    "    \n",
    "    # ✅ Display recommendation\n",
    "    if not result.empty:\n",
    "        print(f\"✨ **Styling Goal:** {result.iloc[0]['Styling Goal']}\")\n",
    "        print(f\"🧴 **Product Type:** {result.iloc[0]['Product Type']}\")\n",
    "        print(f\"📝 **Description:** {result.iloc[0]['Description']}\")\n",
    "        print(f\"💡 **How to Use:** {result.iloc[0]['How to Use']}\")\n",
    "        print(f\"💰 **Budget:** {result.iloc[0]['Budget']}\")\n",
    "\n",
    "        # Extract product recommendations and display each separately\n",
    "        product_list = result.iloc[0]['Product & Link'].split(\", \")\n",
    "        \n",
    "        for product in product_list:\n",
    "            if \"](\" in product:\n",
    "                product_name = product.split('](')[0][1:]  # Extract text inside [ ]\n",
    "                product_link = product.split('](')[1][:-1]  # Extract URL inside ( )\n",
    "                print(f\"🛍 **Recommended Product:** [{product_name}]({product_link})\")\n",
    "            else:\n",
    "                print(f\"🛍 **Recommended Product:** {product}\")  # If no link, display as plain text\n",
    "\n",
    "    else:\n",
    "        print(\"❌ No product found for the selected budget.\")\n",
    "else:\n",
    "    print(\"⚠️ Dataset is missing required columns. Check your CSV structure.\")"
   ]
  },
  {
   "cell_type": "code",
   "execution_count": null,
   "id": "6b377acf-e1ad-462d-8193-a581de2ca121",
   "metadata": {},
   "outputs": [],
   "source": []
  }
 ],
 "metadata": {
  "kernelspec": {
   "display_name": "Python 3 (ipykernel)",
   "language": "python",
   "name": "python3"
  },
  "language_info": {
   "codemirror_mode": {
    "name": "ipython",
    "version": 3
   },
   "file_extension": ".py",
   "mimetype": "text/x-python",
   "name": "python",
   "nbconvert_exporter": "python",
   "pygments_lexer": "ipython3",
   "version": "3.11.4"
  }
 },
 "nbformat": 4,
 "nbformat_minor": 5
}
